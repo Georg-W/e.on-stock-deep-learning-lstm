{
 "cells": [
  {
   "cell_type": "code",
   "execution_count": 191,
   "metadata": {
    "collapsed": true
   },
   "outputs": [],
   "source": [
    "import numpy"
   ]
  },
  {
   "cell_type": "code",
   "execution_count": 192,
   "metadata": {
    "collapsed": true
   },
   "outputs": [],
   "source": [
    "import pandas"
   ]
  },
  {
   "cell_type": "code",
   "execution_count": 193,
   "metadata": {
    "collapsed": true
   },
   "outputs": [],
   "source": [
    "import tensorflow"
   ]
  },
  {
   "cell_type": "code",
   "execution_count": 194,
   "metadata": {
    "collapsed": true
   },
   "outputs": [],
   "source": [
    "import sklearn"
   ]
  },
  {
   "cell_type": "code",
   "execution_count": 195,
   "metadata": {},
   "outputs": [],
   "source": [
    "import keras"
   ]
  },
  {
   "cell_type": "code",
   "execution_count": 196,
   "metadata": {},
   "outputs": [],
   "source": [
    "from keras.preprocessing import sequence\n",
    "from keras.models import Sequential\n",
    "from keras.layers import Dense, Dropout, Activation\n",
    "from keras.layers import Embedding\n",
    "from keras.layers import LSTM\n",
    "import matplotlib.pyplot as plt\n",
    "from sklearn.preprocessing import MinMaxScaler\n",
    "from sklearn.metrics import mean_squared_error\n",
    "import math"
   ]
  },
  {
   "cell_type": "code",
   "execution_count": 197,
   "metadata": {
    "collapsed": true
   },
   "outputs": [],
   "source": [
    "from sklearn.model_selection import train_test_split"
   ]
  },
  {
   "cell_type": "code",
   "execution_count": 198,
   "metadata": {
    "scrolled": true
   },
   "outputs": [
    {
     "name": "stdout",
     "output_type": "stream",
     "text": [
      "          Close\n",
      "0     21.370001\n",
      "1     21.320000\n",
      "2     21.110001\n",
      "3     20.459999\n",
      "4     21.730000\n",
      "5     21.760000\n",
      "6     22.309999\n",
      "7     22.160000\n",
      "8     21.840000\n",
      "9     21.900000\n",
      "10    21.760000\n",
      "11    21.840000\n",
      "12    22.080000\n",
      "13    22.660000\n",
      "14    22.490000\n",
      "15    22.389999\n",
      "16    22.600000\n",
      "17    22.870001\n",
      "18    22.320000\n",
      "19    22.530001\n",
      "20    22.770000\n",
      "21    22.799999\n",
      "22    22.730000\n",
      "23    22.570000\n",
      "24    22.860001\n",
      "25    23.160000\n",
      "26    23.200001\n",
      "27    23.690001\n",
      "28    24.350000\n",
      "29    24.129999\n",
      "...         ...\n",
      "1228   9.930000\n",
      "1229  10.030000\n",
      "1230  10.120000\n",
      "1231  10.140000\n",
      "1232  10.100000\n",
      "1233   9.980000\n",
      "1234  10.000000\n",
      "1235   9.710000\n",
      "1236   9.720000\n",
      "1237   9.480000\n",
      "1238   9.400000\n",
      "1239   9.380000\n",
      "1240   9.320000\n",
      "1241   9.170000\n",
      "1242   9.360000\n",
      "1243   9.580000\n",
      "1244   9.600000\n",
      "1245   9.800000\n",
      "1246   9.780000\n",
      "1247   9.840000\n",
      "1248   9.800000\n",
      "1249   9.800000\n",
      "1250   9.890000\n",
      "1251   9.810000\n",
      "1252   9.750000\n",
      "1253   9.750000\n",
      "1254   9.670000\n",
      "1255   9.820000\n",
      "1256   9.830000\n",
      "1257   9.740000\n",
      "\n",
      "[1258 rows x 1 columns]\n"
     ]
    }
   ],
   "source": [
    "dataframe = pandas.read_csv(\"./eon_data.csv\", usecols=[4], engine='python')\n",
    "print(dataframe)"
   ]
  },
  {
   "cell_type": "code",
   "execution_count": 199,
   "metadata": {},
   "outputs": [
    {
     "data": {
      "image/png": "[encoded data removed]",
      "text/plain": [
       "<matplotlib.figure.Figure at 0x130e6ed9400>"
      ]
     },
     "metadata": {},
     "output_type": "display_data"
    }
   ],
   "source": [
    "plt.plot(dataframe)\n",
    "plt.show()"
   ]
  },
  {
   "cell_type": "code",
   "execution_count": 200,
   "metadata": {},
   "outputs": [
    {
     "name": "stdout",
     "output_type": "stream",
     "text": [
      "[[ 0.78342952]\n",
      " [ 0.78080755]\n",
      " [ 0.76979554]\n",
      " ..., \n",
      " [ 0.17776612]\n",
      " [ 0.17829051]\n",
      " [ 0.17357105]]\n"
     ]
    }
   ],
   "source": [
    "scaler = MinMaxScaler(feature_range=(0, 1))\n",
    "dataframe = scaler.fit_transform(dataframe)\n",
    "print(dataframe)"
   ]
  },
  {
   "cell_type": "code",
   "execution_count": 201,
   "metadata": {
    "collapsed": true
   },
   "outputs": [],
   "source": [
    "numpy.random.seed(7)"
   ]
  },
  {
   "cell_type": "code",
   "execution_count": 202,
   "metadata": {},
   "outputs": [
    {
     "name": "stdout",
     "output_type": "stream",
     "text": [
      "842 416\n"
     ]
    }
   ],
   "source": [
    "# split into train and test sets\n",
    "train_size = int(len(dataframe) * 0.67)\n",
    "test_size = len(dataframe) - train_size\n",
    "train, test = dataframe[0:train_size,:], dataframe[train_size:len(dataset),:]\n",
    "print(len(train), len(test))"
   ]
  },
  {
   "cell_type": "code",
   "execution_count": 203,
   "metadata": {
    "collapsed": true
   },
   "outputs": [],
   "source": [
    "# convert an array of values into a dataset matrix\n",
    "def create_dataset(dataset, look_back=1):\n",
    "\tdataX, dataY = [], []\n",
    "\tfor i in range(len(dataset)-look_back-1):\n",
    "\t\ta = dataset[i:(i+look_back), 0]\n",
    "\t\tdataX.append(a)\n",
    "\t\tdataY.append(dataset[i + look_back, 0])\n",
    "\treturn numpy.array(dataX), numpy.array(dataY)\n",
    "# convert an array of values into a dataset matrix"
   ]
  },
  {
   "cell_type": "code",
   "execution_count": 204,
   "metadata": {
    "collapsed": true
   },
   "outputs": [],
   "source": [
    "# reshape into X=t and Y=t+1\n",
    "look_back = 1\n",
    "trainX, trainY = create_dataset(train, look_back)\n",
    "testX, testY = create_dataset(test, look_back)"
   ]
  },
  {
   "cell_type": "code",
   "execution_count": 205,
   "metadata": {},
   "outputs": [
    {
     "name": "stdout",
     "output_type": "stream",
     "text": [
      "[ 21.32      21.110001  20.459999  21.73      21.76      22.309999  22.16\n",
      "  21.84      21.9       21.76      21.84      22.08      22.66      22.49\n",
      "  22.389999  22.6       22.870001  22.32      22.530001  22.77      22.799999\n",
      "  22.73      22.57      22.860001  23.16      23.200001  23.690001  24.35\n",
      "  24.129999  24.9       25.110001  25.5       25.379999  25.120001  24.76\n",
      "  24.879999  24.709999  24.76      24.5       24.370001  24.219999  24.35\n",
      "  23.709999  23.639999  24.        24.059999  24.16      23.99      23.77\n",
      "  23.200001  23.200001  23.4       23.450001  23.629999  24.07      24.299999\n",
      "  24.1       23.9       23.860001  23.35      22.75      22.629999\n",
      "  22.799999  22.719999  22.74      22.389999  22.209999  22.120001  21.58\n",
      "  21.15      20.9       20.700001  18.629999  17.9       17.84      17.639999\n",
      "  18.02      18.        17.93      18.07      18.01      17.75      17.969999\n",
      "  18.120001  18.040001  18.01      18.15      18.440001  18.200001\n",
      "  17.959999  17.92      18.4       18.65      18.52      18.559999  18.73\n",
      "  18.940001  18.85      18.9       18.51      18.440001  18.43      18.639999\n",
      "  18.309999  18.790001  18.93      18.73      19.02      18.67      18.59\n",
      "  18.709999  18.950001  19.030001  18.950001  18.690001  18.370001  18.59\n",
      "  18.530001  18.379999  17.99      17.84      17.870001  17.6       17.950001\n",
      "  17.879999  17.4       17.540001  17.219999  17.290001  17.040001  16.82\n",
      "  17.23      17.799999  18.120001  17.969999  17.59      17.33      17.65\n",
      "  17.030001  16.610001  17.040001  16.700001  16.59      16.860001  16.74\n",
      "  16.610001  16.799999  16.99      17.049999  17.200001  17.16      17.200001\n",
      "  17.        16.950001  17.        17.        16.690001  16.76      17.040001\n",
      "  17.68      18.030001  17.389999  17.4       17.18      17.549999\n",
      "  17.440001  18.030001  17.83      18.27      18.469999  18.219999  18.57\n",
      "  19.08      19.190001  19.059999  18.709999  18.280001  17.530001\n",
      "  17.299999  17.190001  17.41      17.5       17.889999  17.9       17.940001\n",
      "  18.110001  18.200001  16.68      16.719999  17.280001  17.23      17.309999\n",
      "  17.49      17.190001  17.18      17.040001  16.91      16.709999\n",
      "  16.559999  16.700001  16.709999  17.15      17.049999  17.200001  17.15\n",
      "  17.16      17.110001  17.24      16.940001  16.870001  16.860001\n",
      "  16.719999  17.049999  17.129999  17.01      17.02      17.209999  17.59\n",
      "  17.309999  17.66      17.75      17.23      16.66      16.459999  16.08\n",
      "  15.86      16.120001  16.32      16.48      16.18      15.78      15.7\n",
      "  15.4       15.52      15.67      15.61      16.09      16.        16.02\n",
      "  16.040001  15.96      16.200001  16.389999  16.559999  16.719999\n",
      "  16.940001  17.09      17.040001  16.799999  17.07      16.940001  17.1\n",
      "  16.99      16.76      16.07      16.299999  16.379999  16.43      16.309999\n",
      "  16.67      16.41      16.42      16.49      16.25      16.23      16.15\n",
      "  16.35      16.35      16.25      16.040001  16.35      16.049999  15.86\n",
      "  15.92      16.07      15.97      16.76      16.690001  17.1       17.959999\n",
      "  18.27      18.309999  18.16      18.4       18.68      18.219999\n",
      "  18.200001  18.07      18.16      18.17      18.120001  18.16      17.790001\n",
      "  17.870001  17.799999  17.889999  18.049999  18.67      18.780001\n",
      "  18.950001  19.34      18.610001  18.870001  18.809999  18.879999\n",
      "  18.889999  18.639999  18.5       18.540001  18.32      18.4       18.559999\n",
      "  18.57      18.73      18.610001  18.25      18.1       18.15      18.389999\n",
      "  18.6       18.030001  18.02      18.18      18.18      18.639999  18.26\n",
      "  18.290001  18.91      18.74      18.59      19.02      18.98      18.940001\n",
      "  19.07      19.129999  19.26      18.959999  18.639999  18.48      18.33\n",
      "  18.530001  18.59      18.48      18.26      18.030001  17.969999\n",
      "  18.059999  17.870001  17.950001  18.02      18.049999  18.219999\n",
      "  18.290001  18.309999  18.49      18.5       18.48      17.82      17.860001\n",
      "  17.879999  17.940001  17.76      17.620001  18.        17.82      18.540001\n",
      "  18.790001  18.67      18.309999  18.459999  18.639999  18.959999  18.48\n",
      "  18.360001  18.23      17.860001  18.049999  18.18      17.99      17.99\n",
      "  18.07      18.33      18.629999  18.52      18.719999  18.690001\n",
      "  18.950001  19.049999  19.15      19.08      19.4       19.68      19.809999\n",
      "  19.370001  18.719999  18.950001  18.99      18.459999  18.92      18.85\n",
      "  18.809999  18.6       18.49      18.59      19.200001  18.540001\n",
      "  18.719999  18.870001  19.08      18.91      18.85      18.969999  19.1\n",
      "  19.26      19.200001  19.110001  19.49      19.549999  19.709999\n",
      "  19.549999  19.48      19.4       19.18      19.129999  19.25      19.059999\n",
      "  18.9       18.870001  18.66      18.85      18.969999  18.98      19.129999\n",
      "  19.129999  18.950001  18.59      18.049999  18.27      18.299999\n",
      "  18.309999  18.07      18.15      18.110001  18.360001  18.549999  18.5\n",
      "  18.690001  18.379999  18.049999  17.780001  17.92      18.25      18.299999\n",
      "  18.860001  18.83      19.1       19.190001  19.18      19.23      19.4\n",
      "  19.43      19.4       19.440001  19.549999  19.610001  19.57      19.540001\n",
      "  19.219999  19.23      19.440001  19.610001  19.549999  19.93      20.33\n",
      "  20.280001  20.34      20.379999  20.48      20.549999  20.700001  20.65\n",
      "  20.73      20.719999  20.73      20.26      20.139999  20.01      19.610001\n",
      "  19.700001  19.790001  19.9       20.129999  19.52      19.610001  19.65\n",
      "  19.91      19.799999  20.02      19.65      19.549999  19.559999\n",
      "  19.370001  18.77      18.139999  18.25      18.049999  17.9       17.43\n",
      "  17.700001  17.83      17.58      18.389999  18.440001  18.309999  18.34\n",
      "  18.219999  18.309999  18.360001  18.120001  18.25      18.200001  18.27\n",
      "  18.129999  18.110001  18.23      18.549999  18.459999  18.66      18.43\n",
      "  18.370001  18.52      18.84      18.6       18.58      18.700001\n",
      "  18.469999  18.610001  18.690001  18.719999  18.34      18.629999  18.32\n",
      "  18.4       18.        18.24      17.98      17.74      17.700001  17.68\n",
      "  17.299999  17.73      17.059999  16.700001  16.73      16.67      16.299999\n",
      "  16.02      16.48      16.389999  16.469999  16.379999  16.690001  16.68\n",
      "  16.530001  16.940001  16.700001  16.799999  17.15      16.83      16.82\n",
      "  16.92      16.85      16.65      16.719999  16.83      16.23      16.209999\n",
      "  15.95      16.01      16.450001  16.43      16.49      16.709999\n",
      "  16.790001  17.379999  17.77      17.700001  18.6       18.299999  18.49\n",
      "  18.6       18.91      18.57      18.200001  18.24      17.93      17.43\n",
      "  16.799999  16.99      17.26      17.709999  17.5       17.5       17.51\n",
      "  17.559999  17.58      17.48      17.200001  17.        16.799999  15.88\n",
      "  15.74      15.74      15.92      15.45      15.37      14.96      14.86\n",
      "  14.89      15.31      15.33      15.36      15.34      15.19      15.44\n",
      "  15.46      15.33      15.79      15.36      15.8       15.38      14.98\n",
      "  15.08      14.7       14.5       14.68      14.69      15.13      15.23\n",
      "  15.48      15.31      15.01      15.26      15.25      15.77      16.09\n",
      "  15.77      16.1       15.83      15.69      15.22      15.66      15.07\n",
      "  15.18      14.79      14.78      14.62      14.27      14.55      14.62\n",
      "  15.1       14.91      15.41      15.33      15.4       15.58      15.37\n",
      "  15.26      15.15      14.86      15.        14.92      14.99      15.42\n",
      "  15.24      15.13      15.18      15.26      15.37      15.62      15.77\n",
      "  15.62      15.59      15.47      15.3       15.34      15.85      16.\n",
      "  15.98      15.79      15.5       15.65      15.65      14.68      15.2\n",
      "  15.28      15.7       15.59      15.55      15.58      15.82      15.75\n",
      "  15.51      15.52      15.77      15.71      15.47      14.74      14.94\n",
      "  14.94      14.69      14.6       14.83      15.16      14.62      14.33\n",
      "  14.33      14.24      14.64      14.33      14.23      14.04      13.89\n",
      "  13.91      14.31      13.99      14.33      14.15      14.05      13.85\n",
      "  13.85      13.39      13.35      13.19      13.49      12.99      13.01\n",
      "  12.89      13.15      13.73      13.62      13.57      13.53      13.76\n",
      "  13.5       13.54      13.52      13.44      13.52      13.29      13.26\n",
      "  13.2       13.15      13.08      13.17      13.16      13.11      13.36\n",
      "  13.37      13.26      13.18      12.89      13.11      13.07      12.95\n",
      "  12.79      12.47      12.3       12.12      11.77      11.14      11.34\n",
      "  11.42      11.52      11.5       11.33      11.01      11.05      11.04\n",
      "  10.55      10.91      10.71      10.1        9.77       9.7        9.11\n",
      "   8.51       9.22       8.72       8.68       8.32       8.32       8.29\n",
      "   8.19       7.99       8.18       8.54       8.43       8.98       9.33\n",
      "   9.63       9.9       10.1       10.37      10.9       10.35      10.78\n",
      "  10.72      10.82      10.62      10.87      10.74      10.86      10.94\n",
      "  10.95      10.48      10.65      10.39      10.56      10.72      10.69\n",
      "  10.6       10.56      10.46      10.21       9.77       9.83       9.53\n",
      "   9.35       9.39       9.37       9.48       9.73       9.6        9.43\n",
      "   9.4        9.55       9.52       9.49       9.57    ]\n"
     ]
    },
    {
     "name": "stderr",
     "output_type": "stream",
     "text": [
      "C:\\Users\\Georg\\AppData\\Local\\Continuum\\Anaconda3\\lib\\site-packages\\sklearn\\preprocessing\\data.py:374: DeprecationWarning: Passing 1d arrays as data is deprecated in 0.17 and will raise ValueError in 0.19. Reshape your data either using X.reshape(-1, 1) if your data has a single feature or X.reshape(1, -1) if it contains a single sample.\n",
      "  warnings.warn(DEPRECATION_MSG_1D, DeprecationWarning)\n"
     ]
    }
   ],
   "source": [
    "print(scaler.inverse_transform(trainY))"
   ]
  },
  {
   "cell_type": "code",
   "execution_count": 206,
   "metadata": {
    "collapsed": true
   },
   "outputs": [],
   "source": [
    "trainX = numpy.reshape(trainX, (trainX.shape[0], 1, trainX.shape[1]))\n",
    "testX = numpy.reshape(testX, (testX.shape[0], 1, testX.shape[1]))"
   ]
  },
  {
   "cell_type": "code",
   "execution_count": 207,
   "metadata": {},
   "outputs": [
    {
     "name": "stdout",
     "output_type": "stream",
     "text": [
      "Epoch 1/100\n",
      "2s - loss: 0.0505\n",
      "Epoch 2/100\n",
      "1s - loss: 0.0066\n",
      "Epoch 3/100\n",
      "1s - loss: 0.0020\n",
      "Epoch 4/100\n",
      "1s - loss: 4.1417e-04\n",
      "Epoch 5/100\n",
      "1s - loss: 2.7765e-04\n",
      "Epoch 6/100\n",
      "1s - loss: 2.7384e-04\n",
      "Epoch 7/100\n",
      "1s - loss: 2.6573e-04\n",
      "Epoch 8/100\n",
      "1s - loss: 2.7494e-04\n",
      "Epoch 9/100\n",
      "1s - loss: 2.6429e-04\n",
      "Epoch 10/100\n",
      "1s - loss: 2.6619e-04\n",
      "Epoch 11/100\n",
      "1s - loss: 2.6267e-04\n",
      "Epoch 12/100\n",
      "1s - loss: 2.6726e-04\n",
      "Epoch 13/100\n",
      "1s - loss: 2.6358e-04\n",
      "Epoch 14/100\n",
      "1s - loss: 2.7047e-04\n",
      "Epoch 15/100\n",
      "1s - loss: 2.6713e-04\n",
      "Epoch 16/100\n",
      "1s - loss: 2.6573e-04\n",
      "Epoch 17/100\n",
      "1s - loss: 2.6466e-04\n",
      "Epoch 18/100\n",
      "1s - loss: 2.6731e-04\n",
      "Epoch 19/100\n",
      "1s - loss: 2.6394e-04\n",
      "Epoch 20/100\n",
      "1s - loss: 2.5792e-04\n",
      "Epoch 21/100\n",
      "1s - loss: 2.7370e-04\n",
      "Epoch 22/100\n",
      "1s - loss: 2.5829e-04\n",
      "Epoch 23/100\n",
      "1s - loss: 2.5955e-04\n",
      "Epoch 24/100\n",
      "1s - loss: 2.6239e-04\n",
      "Epoch 25/100\n",
      "1s - loss: 2.6665e-04\n",
      "Epoch 26/100\n",
      "1s - loss: 2.5886e-04\n",
      "Epoch 27/100\n",
      "1s - loss: 2.6678e-04\n",
      "Epoch 28/100\n",
      "1s - loss: 2.6094e-04\n",
      "Epoch 29/100\n",
      "1s - loss: 2.5747e-04\n",
      "Epoch 30/100\n",
      "1s - loss: 2.6561e-04\n",
      "Epoch 31/100\n",
      "1s - loss: 2.6737e-04\n",
      "Epoch 32/100\n",
      "1s - loss: 2.6254e-04\n",
      "Epoch 33/100\n",
      "1s - loss: 2.7034e-04\n",
      "Epoch 34/100\n",
      "1s - loss: 2.6366e-04\n",
      "Epoch 35/100\n",
      "1s - loss: 2.5742e-04\n",
      "Epoch 36/100\n",
      "1s - loss: 2.5454e-04\n",
      "Epoch 37/100\n",
      "1s - loss: 2.6760e-04\n",
      "Epoch 38/100\n",
      "1s - loss: 2.6892e-04\n",
      "Epoch 39/100\n",
      "1s - loss: 2.6163e-04\n",
      "Epoch 40/100\n",
      "1s - loss: 2.6158e-04\n",
      "Epoch 41/100\n",
      "1s - loss: 2.6534e-04\n",
      "Epoch 42/100\n",
      "1s - loss: 2.6412e-04\n",
      "Epoch 43/100\n",
      "1s - loss: 2.5707e-04\n",
      "Epoch 44/100\n",
      "1s - loss: 2.5643e-04\n",
      "Epoch 45/100\n",
      "1s - loss: 2.5594e-04\n",
      "Epoch 46/100\n",
      "1s - loss: 2.5758e-04\n",
      "Epoch 47/100\n",
      "1s - loss: 2.6315e-04\n",
      "Epoch 48/100\n",
      "1s - loss: 2.5584e-04\n",
      "Epoch 49/100\n",
      "1s - loss: 2.6778e-04\n",
      "Epoch 50/100\n",
      "1s - loss: 2.6222e-04\n",
      "Epoch 51/100\n",
      "1s - loss: 2.6456e-04\n",
      "Epoch 52/100\n",
      "1s - loss: 2.5422e-04\n",
      "Epoch 53/100\n",
      "1s - loss: 2.6167e-04\n",
      "Epoch 54/100\n",
      "1s - loss: 2.6043e-04\n",
      "Epoch 55/100\n",
      "1s - loss: 2.6505e-04\n",
      "Epoch 56/100\n",
      "1s - loss: 2.5282e-04\n",
      "Epoch 57/100\n",
      "1s - loss: 2.5541e-04\n",
      "Epoch 58/100\n",
      "1s - loss: 2.6009e-04\n",
      "Epoch 59/100\n",
      "1s - loss: 2.5485e-04\n",
      "Epoch 60/100\n",
      "1s - loss: 2.5025e-04\n",
      "Epoch 61/100\n",
      "1s - loss: 2.6297e-04\n",
      "Epoch 62/100\n",
      "1s - loss: 2.5396e-04\n",
      "Epoch 63/100\n",
      "1s - loss: 2.5855e-04\n",
      "Epoch 64/100\n",
      "1s - loss: 2.5798e-04\n",
      "Epoch 65/100\n",
      "1s - loss: 2.6006e-04\n",
      "Epoch 66/100\n",
      "1s - loss: 2.4946e-04\n",
      "Epoch 67/100\n",
      "1s - loss: 2.6409e-04\n",
      "Epoch 68/100\n",
      "1s - loss: 2.6981e-04\n",
      "Epoch 69/100\n",
      "1s - loss: 2.5209e-04\n",
      "Epoch 70/100\n",
      "1s - loss: 2.5146e-04\n",
      "Epoch 71/100\n",
      "1s - loss: 2.5327e-04\n",
      "Epoch 72/100\n",
      "1s - loss: 2.5640e-04\n",
      "Epoch 73/100\n",
      "1s - loss: 2.5933e-04\n",
      "Epoch 74/100\n",
      "1s - loss: 2.5938e-04\n",
      "Epoch 75/100\n",
      "1s - loss: 2.4552e-04\n",
      "Epoch 76/100\n",
      "1s - loss: 2.5599e-04\n",
      "Epoch 77/100\n",
      "1s - loss: 2.5335e-04\n",
      "Epoch 78/100\n",
      "1s - loss: 2.5680e-04\n",
      "Epoch 79/100\n",
      "1s - loss: 2.5132e-04\n",
      "Epoch 80/100\n",
      "1s - loss: 2.4600e-04\n",
      "Epoch 81/100\n",
      "1s - loss: 2.4857e-04\n",
      "Epoch 82/100\n",
      "1s - loss: 2.6215e-04\n",
      "Epoch 83/100\n",
      "1s - loss: 2.5091e-04\n",
      "Epoch 84/100\n",
      "1s - loss: 2.5767e-04\n",
      "Epoch 85/100\n",
      "1s - loss: 2.4968e-04\n",
      "Epoch 86/100\n",
      "1s - loss: 2.4585e-04\n",
      "Epoch 87/100\n",
      "1s - loss: 2.5472e-04\n",
      "Epoch 88/100\n",
      "1s - loss: 2.5816e-04\n",
      "Epoch 89/100\n",
      "1s - loss: 2.5685e-04\n",
      "Epoch 90/100\n",
      "1s - loss: 2.5692e-04\n",
      "Epoch 91/100\n",
      "1s - loss: 2.4518e-04\n",
      "Epoch 92/100\n",
      "1s - loss: 2.5979e-04\n",
      "Epoch 93/100\n",
      "1s - loss: 2.5563e-04\n",
      "Epoch 94/100\n",
      "1s - loss: 2.4983e-04\n",
      "Epoch 95/100\n",
      "1s - loss: 2.5362e-04\n",
      "Epoch 96/100\n",
      "1s - loss: 2.5581e-04\n",
      "Epoch 97/100\n",
      "1s - loss: 2.5777e-04\n",
      "Epoch 98/100\n",
      "1s - loss: 2.4873e-04\n",
      "Epoch 99/100\n",
      "1s - loss: 2.5209e-04\n",
      "Epoch 100/100\n",
      "1s - loss: 2.5598e-04\n"
     ]
    },
    {
     "data": {
      "text/plain": [
       "<keras.callbacks.History at 0x130ee8577f0>"
      ]
     },
     "execution_count": 207,
     "metadata": {},
     "output_type": "execute_result"
    }
   ],
   "source": [
    "model = Sequential()\n",
    "model.add(LSTM(4, input_shape=(1, look_back)))\n",
    "model.add(Dense(1))\n",
    "model.compile(loss='mean_squared_error', optimizer='adam')\n",
    "model.fit(trainX, trainY, epochs=100, batch_size=1, verbose=2)"
   ]
  },
  {
   "cell_type": "code",
   "execution_count": 208,
   "metadata": {},
   "outputs": [],
   "source": [
    "# make predictions\n",
    "trainPredict = model.predict(trainX)\n",
    "testPredict = model.predict(testX)\n",
    "# invert predictions\n"
   ]
  },
  {
   "cell_type": "code",
   "execution_count": 210,
   "metadata": {},
   "outputs": [
    {
     "name": "stdout",
     "output_type": "stream",
     "text": [
      "Train Score: 0.30 RMSE\n",
      "Test Score: 0.23 RMSE\n"
     ]
    }
   ],
   "source": [
    "numpy.reshape(trainPredict, (trainPredict.shape[0], 1, trainPredict.shape[1]))\n",
    "numpy.reshape(testPredict, (testPredict.shape[0], 1, testPredict.shape[1]))\n",
    "\n",
    "trainPredict = scaler.inverse_transform(trainPredict)\n",
    "trainY = scaler.inverse_transform([trainY])\n",
    "testPredict = scaler.inverse_transform(testPredict)\n",
    "testY = scaler.inverse_transform([testY])\n",
    "# calculate root mean squared error\n",
    "trainScore = math.sqrt(mean_squared_error(trainY[0], trainPredict[:,0]))\n",
    "print('Train Score: %.2f RMSE' % (trainScore))\n",
    "testScore = math.sqrt(mean_squared_error(testY[0], testPredict[:,0]))\n",
    "print('Test Score: %.2f RMSE' % (testScore))"
   ]
  },
  {
   "cell_type": "code",
   "execution_count": 211,
   "metadata": {},
   "outputs": [
    {
     "data": {
      "image/png": "[encoded data removed]",
      "text/plain": [
       "<matplotlib.figure.Figure at 0x130ef1585c0>"
      ]
     },
     "metadata": {},
     "output_type": "display_data"
    }
   ],
   "source": [
    "\n",
    "\n",
    "# shift train predictions for plotting\n",
    "trainPredictPlot = numpy.empty_like(dataframe)\n",
    "trainPredictPlot[:, :] = numpy.nan\n",
    "trainPredictPlot[look_back:len(trainPredict)+look_back, :] = trainPredict\n",
    "# shift test predictions for plotting\n",
    "testPredictPlot = numpy.empty_like(dataset)\n",
    "testPredictPlot[:, :] = numpy.nan\n",
    "testPredictPlot[len(trainPredict)+(look_back*2)+1:len(dataset)-1, :] = testPredict\n",
    "# plot baseline and predictions\n",
    "plt.plot(scaler.inverse_transform(dataframe))\n",
    "plt.plot(trainPredictPlot)\n",
    "plt.plot(testPredictPlot)\n",
    "plt.show()"
   ]
  },
  {
   "cell_type": "code",
   "execution_count": null,
   "metadata": {
    "collapsed": true
   },
   "outputs": [],
   "source": []
  },
  {
   "cell_type": "code",
   "execution_count": null,
   "metadata": {
    "collapsed": true
   },
   "outputs": [],
   "source": []
  }
 ],
 "metadata": {
  "kernelspec": {
   "display_name": "Python 3",
   "language": "python",
   "name": "python3"
  },
  "language_info": {
   "codemirror_mode": {
    "name": "ipython",
    "version": 3
   },
   "file_extension": ".py",
   "mimetype": "text/x-python",
   "name": "python",
   "nbconvert_exporter": "python",
   "pygments_lexer": "ipython3",
   "version": "3.6.1"
  }
 },
 "nbformat": 4,
 "nbformat_minor": 2
}
